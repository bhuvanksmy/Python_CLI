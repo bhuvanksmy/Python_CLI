{
 "cells": [
  {
   "cell_type": "code",
   "execution_count": 2,
   "metadata": {},
   "outputs": [],
   "source": [
    "import pandas as pd\n",
    "import numpy as np\n",
    "import pyspark\n",
    "from pyspark.sql import SparkSession\n",
    "from pyspark.sql.functions import when,expr\n",
    "import requests\n",
    "\n",
    "\n",
    "# create the SparkSession\n",
    "spark = SparkSession.builder.appName('CapStone_Project').getOrCreate()\n",
    "# Reading JSON Customer data \n",
    "df_customer = spark.read.option(\"multiline\",\"true\").json(\"cdw_sapp_customer.json\")\n",
    "# Manipulating customer data according to the specifications in mapping document.\n",
    "df_customer = df_customer.select(\"SSN\",expr(\"initcap(FIRST_NAME)\").alias(\"FIRST_NAME\"),expr(\"lower(MIDDLE_NAME)\").alias(\"MIDDLE_NAME\"),expr(\"initcap(LAST_NAME)\").alias(\"LAST_NAME\"),\"CREDIT_CARD_NO\"\n",
    "                   ,expr(\"APT_NO || ',' || STREET_NAME\").alias(\"FULL_STREET_ADDRESS\"),\"CUST_CITY\",\"CUST_STATE\",\"CUST_COUNTRY\",\"CUST_ZIP\",expr(\"'(' || substr(CUST_PHONE,0,3) || ')' || substr(CUST_PHONE,4,3) || '-' || substr(CUST_PHONE,7,1) || substr(CUST_PHONE,2,3)\").alias(\"CUST_PHONE\"),\"CUST_EMAIL\",\"LAST_UPDATED\")\n",
    "#Reading JSON Branch Data\n",
    "df_branch = spark.read.option(\"multiline\",\"true\").json(\"cdw_sapp_branch.json\")\n",
    "# Manipulating branch data according to the specifications in mapping document.\n",
    "df_branch = df_branch.select(\"BRANCH_CODE\",\"BRANCH_NAME\",\"BRANCH_STREET\",\"BRANCH_CITY\",\"BRANCH_STATE\",expr(\"CASE WHEN BRANCH_ZIP IS NULL  THEN '99999' ELSE BRANCH_ZIP END\").alias(\"BRANCH_ZIP\"),expr(\"'(' || substr(BRANCH_PHONE,0,3) || ')' || substr(BRANCH_PHONE,4,3) || '-' || substr(BRANCH_PHONE,7,3)\").alias(\"BRANCH_PHONE\"),\"LAST_UPDATED\")\n",
    "# Reading JSON Credit_card data \n",
    "df_creditcard = spark.read.option(\"multiline\",\"true\").json(\"cdw_sapp_credit.json\")\n",
    "# Manipulating Credit card data according to the specifications in mapping document.\n",
    "df_creditcard=df_creditcard.select(\"CREDIT_CARD_NO\",expr(\"YEAR || MONTH || DAY\").alias(\"TIMEID\"),\"CUST_SSN\",\"BRANCH_CODE\",\"TRANSACTION_TYPE\",\"TRANSACTION_VALUE\",\"TRANSACTION_ID\")\n",
    "\n",
    "\n",
    "# Define MySQL connection properties\n",
    "mysql_props = {\n",
    "    \"user\": \"root\",\n",
    "    \"password\": \"password\",\n",
    "    \"driver\": \"com.mysql.cj.jdbc.Driver\"\n",
    "}\n",
    "\n",
    "# JDBC URL for MySQL to create new table cdw_sapp_customer and loading data into the table\n",
    "mysql_url = \"jdbc:mysql://localhost:3306/creditcard_capstone\"\n",
    "df_customer.write \\\n",
    "    .jdbc(url=mysql_url,table=\"cdw_sapp_customer\",mode=\"overwrite\",properties=mysql_props)\n",
    "df_branch.write \\\n",
    "    .jdbc(url=mysql_url,table=\"cdw_sapp_branch\",mode=\"overwrite\",properties=mysql_props)\n",
    "df_creditcard.write \\\n",
    "    .jdbc(url=mysql_url,table=\"cdw_sapp_credit_card\",mode=\"overwrite\",properties=mysql_props)"
   ]
  }
 ],
 "metadata": {
  "kernelspec": {
   "display_name": "Python 3",
   "language": "python",
   "name": "python3"
  },
  "language_info": {
   "codemirror_mode": {
    "name": "ipython",
    "version": 3
   },
   "file_extension": ".py",
   "mimetype": "text/x-python",
   "name": "python",
   "nbconvert_exporter": "python",
   "pygments_lexer": "ipython3",
   "version": "3.11.9"
  }
 },
 "nbformat": 4,
 "nbformat_minor": 2
}
